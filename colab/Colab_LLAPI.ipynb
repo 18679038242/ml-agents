{
 "nbformat": 4,
 "nbformat_minor": 0,
 "metadata": {
  "colab": {
   "name": "Colab-UnityEnvironment-1-Run.ipynb",
   "private_outputs": true,
   "provenance": [],
   "collapsed_sections": [],
   "toc_visible": true
  },
  "kernelspec": {
   "name": "python3",
   "language": "python",
   "display_name": "Python 3"
  },
  "pycharm": {
   "stem_cell": {
    "cell_type": "raw",
    "source": [],
    "metadata": {
     "collapsed": false
    }
   }
  }
 },
 "cells": [
  {
   "cell_type": "code",
   "metadata": {
    "id": "htb-p1hSNX7D"
   },
   "source": [
    "#@title Select Environment { display-mode: \"form\" }\n",
    "env_id = \"3DBall\" #@param ['Basic', '3DBall', '3DBallHard', 'GridWorld', 'Hallway', 'VisualHallway', 'CrawlerDynamicTarget', 'CrawlerStaticTarget', 'Bouncer', 'SoccerTwos', 'PushBlock', 'VisualPushBlock', 'WallJump', 'Tennis', 'Reacher', 'Pyramids', 'VisualPyramids', 'Walker', 'FoodCollector', 'VisualFoodCollector', 'StrikersVsGoalie', 'WormStaticTarget', 'WormDynamicTarget']"
   ],
   "execution_count": 1,
   "outputs": []
  },
  {
   "cell_type": "code",
   "metadata": {
    "id": "YSf-WhxbqtLw"
   },
   "source": [
    "# -----------------\n",
    "# This code is used to close an env that might not have been closed before\n",
    "try:\n",
    "  env.close()\n",
    "except:\n",
    "  pass\n",
    "# -----------------\n",
    "\n",
    "from mlagents_envs.registry import default_registry\n",
    "from mlagents_envs.pettingzoo_wrapper import UnityToPettingZooWrapper\n",
    "\n",
    "unity_env = default_registry[env_id].make()\n",
    "env = UnityToPettingZooWrapper(unity_env)\n",
    "print(\"Loaded environment\")"
   ],
   "execution_count": 2,
   "outputs": [
    {
     "output_type": "stream",
     "name": "stdout",
     "text": [
      "Loaded environment\n"
     ]
    }
   ]
  },
  {
   "cell_type": "code",
   "metadata": {
    "id": "dhtl0mpeqxYi"
   },
   "source": [
    "num_cycles = 10\n",
    "\n",
    "env.reset()\n",
    "for agent in env.agent_iter(env.num_agents * num_cycles):\n",
    "    prev_observe, reward, done, info = env.last()\n",
    "    if done:\n",
    "        action = None\n",
    "    elif isinstance(prev_observe, dict) and 'action_mask' in prev_observe:\n",
    "        action = random.choice(np.flatnonzero(prev_observe['action_mask']))\n",
    "    else:\n",
    "        action = env.action_spaces[agent].sample()\n",
    "    env.step(action)\n",
    "print(\"Done stepping\")"
   ],
   "execution_count": 3,
   "outputs": [
    {
     "output_type": "stream",
     "name": "stdout",
     "text": [
      "done stepping\n"
     ]
    }
   ]
  },
  {
   "cell_type": "code",
   "metadata": {
    "id": "a7KatdThq7OV"
   },
   "source": [
    "env.close()\n",
    "print(\"Closed environment\")"
   ],
   "execution_count": 4,
   "outputs": [
    {
     "output_type": "stream",
     "name": "stdout",
     "text": [
      "Closed environment\n"
     ]
    }
   ]
  },
  {
   "cell_type": "code",
   "execution_count": null,
   "metadata": {},
   "outputs": [],
   "source": []
  }
 ]
}